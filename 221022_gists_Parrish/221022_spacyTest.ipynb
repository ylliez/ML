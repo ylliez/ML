{
 "cells": [
  {
   "cell_type": "markdown",
   "metadata": {},
   "source": [
    "# 221022 - spaCy Test\n",
    "\n",
    "Based on Allison Parrish's [recipe generator](https://gist.github.com/aparrish/c74dd125dfd2f3130af98cde1cdc2f06)"
   ]
  },
  {
   "cell_type": "code",
   "execution_count": 7,
   "metadata": {
    "execution": {
     "iopub.execute_input": "2022-10-23T04:38:05.618695Z",
     "iopub.status.busy": "2022-10-23T04:38:05.618377Z",
     "iopub.status.idle": "2022-10-23T04:38:25.932537Z",
     "shell.execute_reply": "2022-10-23T04:38:25.931611Z",
     "shell.execute_reply.started": "2022-10-23T04:38:05.618672Z"
    }
   },
   "outputs": [
    {
     "name": "stdout",
     "output_type": "stream",
     "text": [
      "Collecting en-core-web-md==3.4.1\n",
      "  Downloading https://github.com/explosion/spacy-models/releases/download/en_core_web_md-3.4.1/en_core_web_md-3.4.1-py3-none-any.whl (42.8 MB)\n",
      "     ━━━━━━━━━━━━━━━━━━━━━━━━━━━━━━━━━━━━━━━ 42.8/42.8 MB 364.9 kB/s eta 0:00:00\n",
      "Requirement already satisfied: spacy<3.5.0,>=3.4.0 in /Library/Frameworks/Python.framework/Versions/3.10/lib/python3.10/site-packages (from en-core-web-md==3.4.1) (3.4.3)\n",
      "Requirement already satisfied: spacy-legacy<3.1.0,>=3.0.10 in /Library/Frameworks/Python.framework/Versions/3.10/lib/python3.10/site-packages (from spacy<3.5.0,>=3.4.0->en-core-web-md==3.4.1) (3.0.10)\n",
      "Requirement already satisfied: wasabi<1.1.0,>=0.9.1 in /Library/Frameworks/Python.framework/Versions/3.10/lib/python3.10/site-packages (from spacy<3.5.0,>=3.4.0->en-core-web-md==3.4.1) (0.10.1)\n",
      "Requirement already satisfied: requests<3.0.0,>=2.13.0 in /Library/Frameworks/Python.framework/Versions/3.10/lib/python3.10/site-packages (from spacy<3.5.0,>=3.4.0->en-core-web-md==3.4.1) (2.28.1)\n",
      "Requirement already satisfied: pydantic!=1.8,!=1.8.1,<1.11.0,>=1.7.4 in /Library/Frameworks/Python.framework/Versions/3.10/lib/python3.10/site-packages (from spacy<3.5.0,>=3.4.0->en-core-web-md==3.4.1) (1.10.2)\n",
      "Requirement already satisfied: cymem<2.1.0,>=2.0.2 in /Library/Frameworks/Python.framework/Versions/3.10/lib/python3.10/site-packages (from spacy<3.5.0,>=3.4.0->en-core-web-md==3.4.1) (2.0.7)\n",
      "Requirement already satisfied: typer<0.8.0,>=0.3.0 in /Library/Frameworks/Python.framework/Versions/3.10/lib/python3.10/site-packages (from spacy<3.5.0,>=3.4.0->en-core-web-md==3.4.1) (0.7.0)\n",
      "Requirement already satisfied: jinja2 in /Library/Frameworks/Python.framework/Versions/3.10/lib/python3.10/site-packages (from spacy<3.5.0,>=3.4.0->en-core-web-md==3.4.1) (3.1.2)\n",
      "Requirement already satisfied: catalogue<2.1.0,>=2.0.6 in /Library/Frameworks/Python.framework/Versions/3.10/lib/python3.10/site-packages (from spacy<3.5.0,>=3.4.0->en-core-web-md==3.4.1) (2.0.8)\n",
      "Requirement already satisfied: langcodes<4.0.0,>=3.2.0 in /Library/Frameworks/Python.framework/Versions/3.10/lib/python3.10/site-packages (from spacy<3.5.0,>=3.4.0->en-core-web-md==3.4.1) (3.3.0)\n",
      "Requirement already satisfied: spacy-loggers<2.0.0,>=1.0.0 in /Library/Frameworks/Python.framework/Versions/3.10/lib/python3.10/site-packages (from spacy<3.5.0,>=3.4.0->en-core-web-md==3.4.1) (1.0.3)\n",
      "Requirement already satisfied: srsly<3.0.0,>=2.4.3 in /Library/Frameworks/Python.framework/Versions/3.10/lib/python3.10/site-packages (from spacy<3.5.0,>=3.4.0->en-core-web-md==3.4.1) (2.4.5)\n",
      "Requirement already satisfied: pathy>=0.3.5 in /Library/Frameworks/Python.framework/Versions/3.10/lib/python3.10/site-packages (from spacy<3.5.0,>=3.4.0->en-core-web-md==3.4.1) (0.8.1)\n",
      "Requirement already satisfied: setuptools in /Library/Frameworks/Python.framework/Versions/3.10/lib/python3.10/site-packages (from spacy<3.5.0,>=3.4.0->en-core-web-md==3.4.1) (63.2.0)\n",
      "Requirement already satisfied: packaging>=20.0 in /Users/mac/Library/Python/3.10/lib/python/site-packages (from spacy<3.5.0,>=3.4.0->en-core-web-md==3.4.1) (21.3)\n",
      "Requirement already satisfied: preshed<3.1.0,>=3.0.2 in /Library/Frameworks/Python.framework/Versions/3.10/lib/python3.10/site-packages (from spacy<3.5.0,>=3.4.0->en-core-web-md==3.4.1) (3.0.8)\n",
      "Requirement already satisfied: murmurhash<1.1.0,>=0.28.0 in /Library/Frameworks/Python.framework/Versions/3.10/lib/python3.10/site-packages (from spacy<3.5.0,>=3.4.0->en-core-web-md==3.4.1) (1.0.9)\n",
      "Requirement already satisfied: numpy>=1.15.0 in /Library/Frameworks/Python.framework/Versions/3.10/lib/python3.10/site-packages (from spacy<3.5.0,>=3.4.0->en-core-web-md==3.4.1) (1.23.4)\n",
      "Requirement already satisfied: tqdm<5.0.0,>=4.38.0 in /Library/Frameworks/Python.framework/Versions/3.10/lib/python3.10/site-packages (from spacy<3.5.0,>=3.4.0->en-core-web-md==3.4.1) (4.64.1)\n",
      "Requirement already satisfied: thinc<8.2.0,>=8.1.0 in /Library/Frameworks/Python.framework/Versions/3.10/lib/python3.10/site-packages (from spacy<3.5.0,>=3.4.0->en-core-web-md==3.4.1) (8.1.5)\n",
      "Requirement already satisfied: pyparsing!=3.0.5,>=2.0.2 in /Users/mac/Library/Python/3.10/lib/python/site-packages (from packaging>=20.0->spacy<3.5.0,>=3.4.0->en-core-web-md==3.4.1) (3.0.9)\n",
      "Requirement already satisfied: smart-open<6.0.0,>=5.2.1 in /Library/Frameworks/Python.framework/Versions/3.10/lib/python3.10/site-packages (from pathy>=0.3.5->spacy<3.5.0,>=3.4.0->en-core-web-md==3.4.1) (5.2.1)\n",
      "Requirement already satisfied: typing-extensions>=4.1.0 in /Library/Frameworks/Python.framework/Versions/3.10/lib/python3.10/site-packages (from pydantic!=1.8,!=1.8.1,<1.11.0,>=1.7.4->spacy<3.5.0,>=3.4.0->en-core-web-md==3.4.1) (4.4.0)\n",
      "Requirement already satisfied: idna<4,>=2.5 in /Library/Frameworks/Python.framework/Versions/3.10/lib/python3.10/site-packages (from requests<3.0.0,>=2.13.0->spacy<3.5.0,>=3.4.0->en-core-web-md==3.4.1) (3.4)\n",
      "Requirement already satisfied: urllib3<1.27,>=1.21.1 in /Library/Frameworks/Python.framework/Versions/3.10/lib/python3.10/site-packages (from requests<3.0.0,>=2.13.0->spacy<3.5.0,>=3.4.0->en-core-web-md==3.4.1) (1.26.12)\n",
      "Requirement already satisfied: charset-normalizer<3,>=2 in /Library/Frameworks/Python.framework/Versions/3.10/lib/python3.10/site-packages (from requests<3.0.0,>=2.13.0->spacy<3.5.0,>=3.4.0->en-core-web-md==3.4.1) (2.1.1)\n",
      "Requirement already satisfied: certifi>=2017.4.17 in /Library/Frameworks/Python.framework/Versions/3.10/lib/python3.10/site-packages (from requests<3.0.0,>=2.13.0->spacy<3.5.0,>=3.4.0->en-core-web-md==3.4.1) (2022.9.24)\n",
      "Requirement already satisfied: confection<1.0.0,>=0.0.1 in /Library/Frameworks/Python.framework/Versions/3.10/lib/python3.10/site-packages (from thinc<8.2.0,>=8.1.0->spacy<3.5.0,>=3.4.0->en-core-web-md==3.4.1) (0.0.3)\n",
      "Requirement already satisfied: blis<0.8.0,>=0.7.8 in /Library/Frameworks/Python.framework/Versions/3.10/lib/python3.10/site-packages (from thinc<8.2.0,>=8.1.0->spacy<3.5.0,>=3.4.0->en-core-web-md==3.4.1) (0.7.9)\n",
      "Requirement already satisfied: click<9.0.0,>=7.1.1 in /Library/Frameworks/Python.framework/Versions/3.10/lib/python3.10/site-packages (from typer<0.8.0,>=0.3.0->spacy<3.5.0,>=3.4.0->en-core-web-md==3.4.1) (8.1.3)\n",
      "Requirement already satisfied: MarkupSafe>=2.0 in /Library/Frameworks/Python.framework/Versions/3.10/lib/python3.10/site-packages (from jinja2->spacy<3.5.0,>=3.4.0->en-core-web-md==3.4.1) (2.1.1)\n",
      "\u001b[38;5;2m✔ Download and installation successful\u001b[0m\n",
      "You can now load the package via spacy.load('en_core_web_md')\n"
     ]
    }
   ],
   "source": [
    "import random\n",
    "# !pip install spacy\n",
    "# !pip show spacy\n",
    "import spacy\n",
    "import spacy.cli\n",
    "spacy.cli.download(\"en_core_web_md\")\n",
    "nlp = spacy.load(\"en_core_web_md\")\n",
    "# from spacy import displacy\n",
    "# !pip install tracery\n",
    "# import tracery\n",
    "# from tracery.modifiers import base_english"
   ]
  },
  {
   "cell_type": "code",
   "execution_count": 4,
   "metadata": {
    "execution": {
     "iopub.execute_input": "2022-10-23T04:38:25.935207Z",
     "iopub.status.busy": "2022-10-23T04:38:25.934397Z",
     "iopub.status.idle": "2022-10-23T04:38:25.939552Z",
     "shell.execute_reply": "2022-10-23T04:38:25.938595Z",
     "shell.execute_reply.started": "2022-10-23T04:38:25.935171Z"
    }
   },
   "outputs": [],
   "source": [
    "# test = open(\"assets/frost.txt\").read()\n",
    "# # test\n",
    "# nlp(test)"
   ]
  },
  {
   "cell_type": "code",
   "execution_count": 8,
   "metadata": {
    "execution": {
     "iopub.execute_input": "2022-10-23T04:38:25.941934Z",
     "iopub.status.busy": "2022-10-23T04:38:25.941109Z",
     "iopub.status.idle": "2022-10-23T04:38:56.760175Z",
     "shell.execute_reply": "2022-10-23T04:38:56.759481Z",
     "shell.execute_reply.started": "2022-10-23T04:38:25.941906Z"
    }
   },
   "outputs": [],
   "source": [
    "text = open(\"assets/bible_500K.txt\").read()\n",
    "# text\n",
    "# for token in text:\n",
    "#     print (token)\n",
    "# len(text)\n",
    "# nlp.max_length = len(text) + 100\n",
    "doc = nlp(text)\n",
    "# doc\n",
    "# for token in doc:\n",
    "#     print(token.text, token.pos_, token.dep_)"
   ]
  },
  {
   "cell_type": "code",
   "execution_count": 9,
   "metadata": {
    "execution": {
     "iopub.execute_input": "2022-10-23T04:38:56.765015Z",
     "iopub.status.busy": "2022-10-23T04:38:56.764098Z",
     "iopub.status.idle": "2022-10-23T04:38:56.848941Z",
     "shell.execute_reply": "2022-10-23T04:38:56.848406Z",
     "shell.execute_reply.started": "2022-10-23T04:38:56.764987Z"
    }
   },
   "outputs": [
    {
     "data": {
      "text/plain": [
       "5062"
      ]
     },
     "execution_count": 9,
     "metadata": {},
     "output_type": "execute_result"
    }
   ],
   "source": [
    "# words = [word for word in doc]\n",
    "# words = [word.pos_ for word in doc]\n",
    "# words = [word for word in doc if word.pos_ == 'VERB']\n",
    "# words = [word.lemma_ for word in doc if word.pos_ == 'VERB']\n",
    "words = [word for word in doc if word.dep_ == 'dobj']\n",
    "# [item.dep_ for item in word.children]\n",
    "len(words)\n",
    "# displacy.render(doc, style=\"dep\")"
   ]
  },
  {
   "cell_type": "code",
   "execution_count": 10,
   "metadata": {
    "execution": {
     "iopub.execute_input": "2022-10-23T04:38:56.850291Z",
     "iopub.status.busy": "2022-10-23T04:38:56.849869Z",
     "iopub.status.idle": "2022-10-23T04:38:56.859123Z",
     "shell.execute_reply": "2022-10-23T04:38:56.858421Z",
     "shell.execute_reply.started": "2022-10-23T04:38:56.850268Z"
    }
   },
   "outputs": [],
   "source": [
    "def flatten_subtree(st):\n",
    "    return ''.join([w.text_with_ws for w in list(st)]).strip()"
   ]
  },
  {
   "cell_type": "code",
   "execution_count": 11,
   "metadata": {
    "execution": {
     "iopub.execute_input": "2022-10-23T04:39:02.353091Z",
     "iopub.status.busy": "2022-10-23T04:39:02.348888Z",
     "iopub.status.idle": "2022-10-23T04:39:02.522439Z",
     "shell.execute_reply": "2022-10-23T04:39:02.521543Z",
     "shell.execute_reply.started": "2022-10-23T04:39:02.353029Z"
    }
   },
   "outputs": [],
   "source": [
    "imperatives = [word.lemma_ for word in doc if word.pos_ == 'VERB'\n",
    "               and 'dobj' in [item.dep_ for item in word.children]]\n",
    "imperatives\n",
    "objects = [flatten_subtree(word.subtree) for word in doc if word.dep_ == 'dobj']\n",
    "# objects\n",
    "objects = [item.replace(\"\\n\", \" \").replace(\"_\", \" \") for item in objects if len(item) > 5 and len(item) < 25]\n",
    "# objects"
   ]
  },
  {
   "cell_type": "code",
   "execution_count": 13,
   "metadata": {
    "execution": {
     "iopub.execute_input": "2022-10-23T04:39:02.529076Z",
     "iopub.status.busy": "2022-10-23T04:39:02.526569Z",
     "iopub.status.idle": "2022-10-23T04:39:02.538569Z",
     "shell.execute_reply": "2022-10-23T04:39:02.537891Z",
     "shell.execute_reply.started": "2022-10-23T04:39:02.529042Z"
    }
   },
   "outputs": [
    {
     "ename": "NameError",
     "evalue": "name 'tracery' is not defined",
     "output_type": "error",
     "traceback": [
      "\u001b[0;31m---------------------------------------------------------------------------\u001b[0m",
      "\u001b[0;31mNameError\u001b[0m                                 Traceback (most recent call last)",
      "Cell \u001b[0;32mIn [13], line 6\u001b[0m\n\u001b[1;32m      1\u001b[0m rules \u001b[39m=\u001b[39m {\n\u001b[1;32m      2\u001b[0m     \u001b[39m\"\u001b[39m\u001b[39morigin\u001b[39m\u001b[39m\"\u001b[39m: \u001b[39m\"\u001b[39m\u001b[39m#imperative.capitalize# #object#\u001b[39m\u001b[39m\"\u001b[39m,\n\u001b[1;32m      3\u001b[0m     \u001b[39m\"\u001b[39m\u001b[39mimperative\u001b[39m\u001b[39m\"\u001b[39m: imperatives,\n\u001b[1;32m      4\u001b[0m     \u001b[39m\"\u001b[39m\u001b[39mobject\u001b[39m\u001b[39m\"\u001b[39m: objects\n\u001b[1;32m      5\u001b[0m }\n\u001b[0;32m----> 6\u001b[0m grammar \u001b[39m=\u001b[39m tracery\u001b[39m.\u001b[39mGrammar(rules)\n\u001b[1;32m      7\u001b[0m grammar\u001b[39m.\u001b[39madd_modifiers(base_english)\n\u001b[1;32m      8\u001b[0m grammar\u001b[39m.\u001b[39mflatten(\u001b[39m\"\u001b[39m\u001b[39m#origin#\u001b[39m\u001b[39m\"\u001b[39m)\n",
      "\u001b[0;31mNameError\u001b[0m: name 'tracery' is not defined"
     ]
    }
   ],
   "source": [
    "rules = {\n",
    "    \"origin\": \"#imperative.capitalize# #object#\",\n",
    "    \"imperative\": imperatives,\n",
    "    \"object\": objects\n",
    "}\n",
    "grammar = tracery.Grammar(rules)\n",
    "grammar.add_modifiers(base_english)\n",
    "grammar.flatten(\"#origin#\")"
   ]
  },
  {
   "cell_type": "code",
   "execution_count": 11,
   "metadata": {
    "execution": {
     "iopub.execute_input": "2022-10-23T04:39:02.542455Z",
     "iopub.status.busy": "2022-10-23T04:39:02.541901Z",
     "iopub.status.idle": "2022-10-23T04:39:05.434603Z",
     "shell.execute_reply": "2022-10-23T04:39:05.433934Z",
     "shell.execute_reply.started": "2022-10-23T04:39:02.542429Z"
    }
   },
   "outputs": [],
   "source": [
    "grammar = tracery.Grammar(rules)\n",
    "grammar.add_modifiers(base_english)\n",
    "\n",
    "recipe_steps = []\n",
    "for i in range(10000):\n",
    "    step = grammar.flatten(\"#origin#\")\n",
    "    recipe_steps.append(step)"
   ]
  },
  {
   "cell_type": "code",
   "execution_count": 12,
   "metadata": {
    "execution": {
     "iopub.execute_input": "2022-10-23T04:39:05.438516Z",
     "iopub.status.busy": "2022-10-23T04:39:05.438168Z",
     "iopub.status.idle": "2022-10-23T04:39:05.445044Z",
     "shell.execute_reply": "2022-10-23T04:39:05.444438Z",
     "shell.execute_reply.started": "2022-10-23T04:39:05.438486Z"
    }
   },
   "outputs": [
    {
     "data": {
      "text/plain": [
       "['Accept the kingdom',\n",
       " 'Singe their voices',\n",
       " 'Perform unleavened bread',\n",
       " 'Send his men',\n",
       " 'Build one of his ribs',\n",
       " 'Visit walk in my ways',\n",
       " 'Eat rods of green poplar,',\n",
       " 'Parteth kindness',\n",
       " 'Drink the third day',\n",
       " 'Help his hand']"
      ]
     },
     "execution_count": 12,
     "metadata": {},
     "output_type": "execute_result"
    }
   ],
   "source": [
    "random.sample(recipe_steps, 10)"
   ]
  },
  {
   "cell_type": "code",
   "execution_count": 13,
   "metadata": {
    "execution": {
     "iopub.execute_input": "2022-10-23T04:39:05.446322Z",
     "iopub.status.busy": "2022-10-23T04:39:05.445723Z",
     "iopub.status.idle": "2022-10-23T04:39:05.567217Z",
     "shell.execute_reply": "2022-10-23T04:39:05.566266Z",
     "shell.execute_reply.started": "2022-10-23T04:39:05.446301Z"
    }
   },
   "outputs": [
    {
     "name": "stdout",
     "output_type": "stream",
     "text": [
      "ALPHA\n",
      "\n",
      "1. Put this heap.\n",
      "2. Bare obeisance unto the king.\n",
      "3. Spake the LORD thy God.\n",
      "4. Bring the persons.\n",
      "5. Build the door.\n",
      "6. Bring the words of Solomon.\n",
      "7. Take Arphaxad.\n",
      "8. Set their seed.\n",
      "9. Give the pillars.\n",
      "10. Give our money.\n",
      "\n",
      "\n"
     ]
    }
   ],
   "source": [
    "# for j in range(12):\n",
    "\n",
    "recipe_name = random.choice(list(doc.noun_chunks))\n",
    "steps = random.sample(recipe_steps, 10)\n",
    "\n",
    "print(recipe_name.text.upper().replace(\"\\n\", \" \"))\n",
    "print()\n",
    "for i, text in enumerate(steps):\n",
    "    print(f\"{i+1}. {text}.\")\n",
    "print()\n",
    "print()"
   ]
  }
 ],
 "metadata": {
  "kernelspec": {
   "display_name": "Python 3.10.8 64-bit",
   "language": "python",
   "name": "python3"
  },
  "language_info": {
   "codemirror_mode": {
    "name": "ipython",
    "version": 3
   },
   "file_extension": ".py",
   "mimetype": "text/x-python",
   "name": "python",
   "nbconvert_exporter": "python",
   "pygments_lexer": "ipython3",
   "version": "3.10.8"
  },
  "vscode": {
   "interpreter": {
    "hash": "aee8b7b246df8f9039afb4144a1f6fd8d2ca17a180786b69acc140d282b71a49"
   }
  }
 },
 "nbformat": 4,
 "nbformat_minor": 4
}
